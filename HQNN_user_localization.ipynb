{
 "cells": [
  {
   "cell_type": "code",
   "execution_count": null,
   "id": "4f4470d8-01c3-4505-9eee-10788fe0f095",
   "metadata": {},
   "outputs": [],
   "source": [
    "import torch\n",
    "import torch.nn as nn\n",
    "import torch.optim as optim\n",
    "from torch.utils.data import DataLoader, TensorDataset\n",
    "import pandas as pd\n",
    "import numpy as np\n",
    "from qiskit.circuit.library import ZZFeatureMap, RealAmplitudes\n",
    "from qiskit_machine_learning.circuit.library import QNNCircuit\n",
    "from qiskit_machine_learning.connectors import TorchConnector\n",
    "from qiskit_machine_learning.neural_networks import EstimatorQNN\n",
    "from qiskit import QuantumCircuit"
   ]
  },
  {
   "cell_type": "code",
   "execution_count": null,
   "id": "ce8abab8-43cd-4923-bbfd-415f7c879d3b",
   "metadata": {},
   "outputs": [],
   "source": [
    "from qiskit.transpiler.preset_passmanagers import generate_preset_pass_manager\n",
    "from qiskit_ibm_provider import IBMProvider\n",
    "from qiskit_ibm_runtime import Estimator,Options"
   ]
  },
  {
   "cell_type": "code",
   "execution_count": 1,
   "id": "cc13f026-92ca-4d15-8df1-877c531cdb0f",
   "metadata": {},
   "outputs": [],
   "source": [
    "import time\n",
    "import matplotlib.pyplot as plt"
   ]
  },
  {
   "cell_type": "code",
   "execution_count": null,
   "id": "089ee63c-d677-4e67-b31f-146ce40b348b",
   "metadata": {},
   "outputs": [],
   "source": [
    "# Prepare the dataset\n",
    "df_train = pd.read_csv(\"db_sc1_bluetooth.csv\")\n",
    "df_test = pd.read_csv(\"Tests_Scenario1_bluetooth.csv\")\n",
    "\n",
    "X_train = df_train[[\"RSSI A\", \"RSSI B\", \"RSSI C\"]].values  # Use all three features\n",
    "Y_train = df_train[[\"x\", \"y\"]].values\n",
    "\n",
    "X_test = df_test[[\"RSSI A\", \"RSSI B\", \"RSSI C\"]].values\n",
    "Y_test = df_test[[\"x\", \"y\"]].values\n",
    "\n",
    "X_train_tensor = torch.tensor(X_train, dtype=torch.float32)\n",
    "Y_train_tensor = torch.tensor(Y_train, dtype=torch.float32)\n",
    "\n",
    "# Create a DataLoader for training\n",
    "train_dataset = TensorDataset(X_train_tensor, Y_train_tensor)\n",
    "train_loader = DataLoader(train_dataset, batch_size=1, shuffle=True)"
   ]
  },
  {
   "cell_type": "code",
   "execution_count": null,
   "id": "2e2dde4a-91a6-4c2f-b18c-a9b800f38eb7",
   "metadata": {},
   "outputs": [],
   "source": [
    "provider = IBMProvider('Your API token')\n",
    "qcomp = provider.get_backend('backend name')\n",
    "options = Options(optimization_level=1)\n",
    "pass_manager = generate_preset_pass_manager(optimization_level=1)\n",
    "estimator = Estimator(backend='backend name',options=options)"
   ]
  },
  {
   "cell_type": "code",
   "execution_count": null,
   "id": "9c0edefd-4be6-44c8-8967-c1746404234d",
   "metadata": {},
   "outputs": [],
   "source": [
    "# Define the Quantum Neural Network (QNN)\n",
    "feature_map = ZZFeatureMap(3) # can define the feature_map using any other from Qiskit or can be custom-defined\n",
    "ansatz = RealAmplitudes(3, reps=3) # most commonly used ansatz, any custom ansatz can be used  \n",
    "qc = QuantumCircuit(3)\n",
    "qc.compose(feature_map, inplace=True)\n",
    "qc.compose(ansatz, inplace=True)"
   ]
  },
  {
   "cell_type": "code",
   "execution_count": null,
   "id": "65b9d829-5144-4930-a564-c63efc0dfd5e",
   "metadata": {},
   "outputs": [],
   "source": [
    "qnn = EstimatorQNN(\n",
    "    circuit=qc,\n",
    "    input_params=feature_map.parameters,\n",
    "    weight_params=ansatz.parameters,\n",
    "    input_gradients=True\n",
    ")"
   ]
  },
  {
   "cell_type": "code",
   "execution_count": null,
   "id": "486dc568-d40d-48ed-9b11-4816b980a2de",
   "metadata": {},
   "outputs": [],
   "source": [
    "# Define the classical neural network\n",
    "class ClassicalNN(nn.Module):\n",
    "    def __init__(self):\n",
    "        super(ClassicalNN, self).__init__()\n",
    "        self.fc1 = nn.Linear(3, 32)\n",
    "        self.fc2 = nn.Linear(32, 2)\n",
    "\n",
    "    def forward(self, x):\n",
    "        x = torch.relu(self.fc1(x))\n",
    "        x = self.fc2(x)\n",
    "        return x"
   ]
  },
  {
   "cell_type": "code",
   "execution_count": null,
   "id": "ce387728-6837-4692-9c7d-7db7153fea96",
   "metadata": {},
   "outputs": [],
   "source": [
    "# Define the complete model\n",
    "class HybridModel(nn.Module):\n",
    "    def __init__(self, qnn, classical_nn):\n",
    "        super(HybridModel, self).__init__()\n",
    "        self.qnn = TorchConnector(qnn)\n",
    "        self.classical_nn = classical_nn\n",
    "\n",
    "    def forward(self, x):\n",
    "        x_qnn = self.qnn(x)\n",
    "        x_classical = self.classical_nn(x)\n",
    "        return x_qnn + x_classical"
   ]
  },
  {
   "cell_type": "code",
   "execution_count": null,
   "id": "6669db01-5d0b-46c7-aa15-b16876553a3d",
   "metadata": {},
   "outputs": [],
   "source": [
    "# Initialize the models and optimizer\n",
    "classical_nn = ClassicalNN()\n",
    "hybrid_model = HybridModel(qnn, classical_nn)\n",
    "optimizer = optim.Adam(hybrid_model.parameters(), lr=0.1)"
   ]
  },
  {
   "cell_type": "code",
   "execution_count": null,
   "id": "5f8088af-6732-4d03-9e67-77b244c56d64",
   "metadata": {},
   "outputs": [],
   "source": [
    "# Training loop\n",
    "epochs = 80\n",
    "training_times = []\n",
    "loss_func = nn.MSELoss()\n",
    "for epoch in range(epochs):\n",
    "    start_time = time.time()  # Start time for the current epoch\n",
    "    for inputs, targets in train_loader:\n",
    "        optimizer.zero_grad()\n",
    "        outputs = hybrid_model(inputs)\n",
    "        loss = loss_func(outputs, targets)\n",
    "        loss.backward()\n",
    "        optimizer.step()\n",
    "    end_time = time.time()  # End time for the current epoch\n",
    "    training_time = end_time - start_time\n",
    "    training_times.append(training_time)\n",
    "\n",
    "print(np.sum(training_times))"
   ]
  },
  {
   "cell_type": "code",
   "execution_count": null,
   "id": "1fdf7690-b8bd-4e41-b86f-9bba4a14d221",
   "metadata": {},
   "outputs": [],
   "source": [
    "# Plot the training times\n",
    "plt.figure(figsize=(10, 5))\n",
    "plt.plot(range(1, epochs + 1), training_times, marker='o')\n",
    "plt.xlabel('Epoch')\n",
    "plt.ylabel('Training Time (s)')\n",
    "plt.title('Training Time per Epoch')\n",
    "plt.grid(True)\n",
    "plt.show()"
   ]
  },
  {
   "cell_type": "code",
   "execution_count": null,
   "id": "da0aec6f-3d9d-4eda-9814-cabec389c101",
   "metadata": {},
   "outputs": [],
   "source": [
    "def create_qnn():\n",
    "    feature_map = ZZFeatureMap(3)\n",
    "    ansatz = RealAmplitudes(3, reps=3)\n",
    "    qc = QuantumCircuit(3)\n",
    "    qc.compose(feature_map, inplace=True)\n",
    "    qc.compose(ansatz, inplace=True)\n",
    "    # pm = generate_preset_pass_manager(backend=qcomp, optimization_level=1)\n",
    "    # isa_circuit = pm.run(qc)\n",
    "\n",
    "    qnn = EstimatorQNN(\n",
    "        circuit=qc,\n",
    "        input_params=feature_map.parameters,\n",
    "        weight_params=ansatz.parameters,\n",
    "        input_gradients=True,\n",
    "        # estimator = estimator\n",
    "    )\n",
    "    return qnn"
   ]
  },
  {
   "cell_type": "code",
   "execution_count": null,
   "id": "816f66c7-0cea-490e-bfac-b50a60031609",
   "metadata": {},
   "outputs": [],
   "source": [
    "# Save the trained model\n",
    "torch.save(hybrid_model.state_dict(), \"hybrid_model_trained.pt\")\n",
    "qnn5 = create_qnn()\n",
    "# Load the saved model\n",
    "loaded_model = HybridModel(qnn5,classical_nn)\n",
    "loaded_model.load_state_dict(torch.load(\"hybrid_model_trained.pt\"))"
   ]
  },
  {
   "cell_type": "code",
   "execution_count": null,
   "id": "f4b424b2-7ff6-410a-8c0c-99e053441e9f",
   "metadata": {},
   "outputs": [],
   "source": [
    "# Test the loaded model on the test data\n",
    "loaded_model.eval()\n",
    "X_test_tensor = torch.tensor(X_test, dtype=torch.float32)\n",
    "Y_pred = loaded_model(X_test_tensor).detach().numpy()"
   ]
  },
  {
   "cell_type": "code",
   "execution_count": null,
   "id": "00f8c465-4e46-45ce-8226-4570b8d5e552",
   "metadata": {},
   "outputs": [],
   "source": [
    "# Calculate Mean Squared Error (MSE) for testing data\n",
    "mse = np.mean(np.square(Y_pred - Y_test))\n",
    "print(f\"Mean Squared Error (MSE) on testing data: {mse}\")"
   ]
  }
 ],
 "metadata": {
  "kernelspec": {
   "display_name": "Python 3 (ipykernel)",
   "language": "python",
   "name": "python3"
  },
  "language_info": {
   "codemirror_mode": {
    "name": "ipython",
    "version": 3
   },
   "file_extension": ".py",
   "mimetype": "text/x-python",
   "name": "python",
   "nbconvert_exporter": "python",
   "pygments_lexer": "ipython3",
   "version": "3.11.7"
  }
 },
 "nbformat": 4,
 "nbformat_minor": 5
}
