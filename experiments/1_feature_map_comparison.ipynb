{
 "cells": [
  {
   "cell_type": "code",
   "execution_count": null,
   "id": "f87f6ef3",
   "metadata": {},
   "outputs": [],
   "source": [
    "# Setup and Imports\n",
    "import sys\n",
    "sys.path.append(\"..\")\n",
    "\n",
    "import torch\n",
    "from torch import nn, optim\n",
    "from hqnn_core.qnn_builder import create_qnn\n",
    "from hqnn_core.classical_model import ClassicalNN\n",
    "from hqnn_core.hqnn_model import HybridModel\n",
    "from hqnn_core.train import train_model\n",
    "from hqnn_core.evaluate import evaluate_model\n",
    "from hqnn_core.data_utils import load_rssi_dataset\n",
    "\n",
    "import pandas as pd\n",
    "import matplotlib.pyplot as plt"
   ]
  },
  {
   "cell_type": "code",
   "execution_count": null,
   "id": "0f115b14",
   "metadata": {},
   "outputs": [],
   "source": [
    "# Experimental hyperparameters\n",
    "num_qubits = 3\n",
    "reps = 1\n",
    "ansatz_type = \"real\"\n",
    "learning_rate = 0.01\n",
    "num_epochs = 15\n",
    "batch_size = 16\n",
    "sc_num = 1\n",
    "\n",
    "# Feature maps to test\n",
    "feature_maps = [\"zz\", \"z\", \"pauli\"]\n",
    "\n",
    "# Scenarios and signal types to explore\n",
    "scenarios = [\"scenario_one\"]\n",
    "signals = [\"bluetooth\", \"wifi\", \"zigbee\"]"
   ]
  },
  {
   "cell_type": "code",
   "execution_count": null,
   "id": "c6ae6647",
   "metadata": {},
   "outputs": [],
   "source": [
    "results = []\n",
    "\n",
    "for feature_map_type in feature_maps:\n",
    "    for scenario in scenarios:\n",
    "        for signal in signals:\n",
    "            print(f\"Training on {scenario.upper()} - {signal} using {feature_map_type.upper()} feature map...\")\n",
    "\n",
    "            train_loader, test_loader = load_rssi_dataset(\n",
    "                scenario=scenario,\n",
    "                signal=signal,\n",
    "                sc_num=sc_num,\n",
    "                batch_size=batch_size,\n",
    "                base_path=\"../data\"\n",
    "            )\n",
    "\n",
    "            # Create QNN + Classical components\n",
    "            qnn = create_qnn(\n",
    "                num_qubits=num_qubits,\n",
    "                reps=reps,\n",
    "                feature_map_type=feature_map_type,\n",
    "                ansatz_type=ansatz_type\n",
    "            )\n",
    "            clnn = ClassicalNN(input_size=3, hidden_size=32, output_size=2)\n",
    "            model = HybridModel(qnn, clnn)\n",
    "\n",
    "            criterion = nn.MSELoss()\n",
    "            optimizer = optim.Adam(model.parameters(), lr=learning_rate)\n",
    "\n",
    "            train_model(model, train_loader, criterion, optimizer, num_epochs=num_epochs, verbose=False)\n",
    "            rmse = evaluate_model(model, test_loader)\n",
    "\n",
    "            results.append({\n",
    "                \"Scenario\": scenario,\n",
    "                \"Signal\": signal,\n",
    "                \"FeatureMap\": feature_map_type,\n",
    "                \"RMSE\": rmse\n",
    "            })"
   ]
  },
  {
   "cell_type": "code",
   "execution_count": null,
   "id": "774ccada",
   "metadata": {},
   "outputs": [],
   "source": [
    "df_results = pd.DataFrame(results)\n",
    "df_results = df_results.sort_values(by=\"RMSE\", ascending=True).reset_index(drop=True)\n",
    "df_results"
   ]
  },
  {
   "cell_type": "code",
   "execution_count": null,
   "id": "43439e0f",
   "metadata": {},
   "outputs": [],
   "source": [
    "import seaborn as sns\n",
    "\n",
    "plt.figure(figsize=(10, 6))\n",
    "sns.barplot(data=df_results, x=\"Signal\", y=\"RMSE\", hue=\"FeatureMap\")\n",
    "plt.title(\"Feature Map Comparison by Signal Type\")\n",
    "plt.xlabel(\"Signal Type\")\n",
    "plt.ylabel(\"RMSE\")\n",
    "plt.legend(title=\"Feature Map\")\n",
    "plt.grid(True)\n",
    "plt.tight_layout()\n",
    "plt.show()"
   ]
  }
 ],
 "metadata": {
  "kernelspec": {
   "display_name": "venv",
   "language": "python",
   "name": "python3"
  },
  "language_info": {
   "name": "python",
   "version": "3.10.17"
  }
 },
 "nbformat": 4,
 "nbformat_minor": 5
}
