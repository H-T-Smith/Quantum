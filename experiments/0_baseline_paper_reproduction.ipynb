{
 "cells": [
  {
   "cell_type": "markdown",
   "id": "24b127cb",
   "metadata": {},
   "source": [
    "# 0. Baseline HQNN Reproduction\n",
    "This notebook reproduces the exact HQNN configuration used in the original paper, using a ZZ feature map, RealAmplitudes ansatz, and no noise."
   ]
  },
  {
   "cell_type": "code",
   "execution_count": 2,
   "id": "04685848",
   "metadata": {},
   "outputs": [],
   "source": [
    "# Setup and Imports\n",
    "import sys\n",
    "sys.path.append(\"..\")\n",
    "\n",
    "import torch\n",
    "from torch import nn, optim\n",
    "from hqnn_core.qnn_builder import create_qnn\n",
    "from hqnn_core.classical_model import ClassicalNN\n",
    "from hqnn_core.hqnn_model import HybridModel\n",
    "from hqnn_core.train import train_model\n",
    "from hqnn_core.evaluate import evaluate_model\n",
    "from hqnn_core.data_utils import load_rssi_dataset"
   ]
  },
  {
   "cell_type": "code",
   "execution_count": 3,
   "id": "6a8a3e3a",
   "metadata": {},
   "outputs": [],
   "source": [
    "# Experiment Configs\n",
    "scenarios = {\n",
    "    \"scenario_one\": \"1\",\n",
    "    \"scenario_two\": \"2\",\n",
    "    \"scenario_three\": \"3\",\n",
    "}\n",
    "signals = [\"bluetooth\", \"wifi\", \"zigbee\"]\n",
    "\n",
    "feature_map_type = \"zz\"\n",
    "ansatz_type = \"real\"\n",
    "num_qubits = 3\n",
    "reps = 1\n",
    "batch_size = 8\n",
    "num_epochs = 30\n",
    "learning_rate = 0.01\n",
    "\n",
    "results = []"
   ]
  },
  {
   "cell_type": "code",
   "execution_count": 4,
   "id": "f3bd7713",
   "metadata": {},
   "outputs": [
    {
     "name": "stdout",
     "output_type": "stream",
     "text": [
      "Preparing SCENARIO_ONE + bluetooth...\n",
      "Preparing SCENARIO_ONE + wifi...\n",
      "Preparing SCENARIO_ONE + zigbee...\n",
      "Preparing SCENARIO_TWO + bluetooth...\n",
      "Preparing SCENARIO_TWO + wifi...\n",
      "Preparing SCENARIO_TWO + zigbee...\n",
      "Preparing SCENARIO_THREE + bluetooth...\n",
      "Preparing SCENARIO_THREE + wifi...\n",
      "Preparing SCENARIO_THREE + zigbee...\n"
     ]
    }
   ],
   "source": [
    "# Load Data and Prep Models for Configs\n",
    "runs = []\n",
    "\n",
    "for scenario, sc_num in scenarios.items():\n",
    "    for signal in signals:\n",
    "        print(f\"Preparing {scenario.upper()} + {signal}...\")\n",
    "\n",
    "        train_loader, test_loader = load_rssi_dataset(\n",
    "            scenario=scenario,\n",
    "            signal=signal,\n",
    "            sc_num=sc_num,\n",
    "            batch_size=batch_size,\n",
    "            base_path=\"../data\",\n",
    "        )\n",
    "\n",
    "        qnn = create_qnn(\n",
    "            num_qubits=num_qubits,\n",
    "            reps=reps,\n",
    "            feature_map_type=feature_map_type,\n",
    "            ansatz_type=ansatz_type\n",
    "        )\n",
    "        clnn = ClassicalNN(input_size=3, hidden_size=32, output_size=2)\n",
    "        model = HybridModel(qnn, clnn)\n",
    "\n",
    "        runs.append((scenario, signal, model, train_loader, test_loader))\n"
   ]
  },
  {
   "cell_type": "code",
   "execution_count": 5,
   "id": "e066a6a6",
   "metadata": {},
   "outputs": [
    {
     "name": "stdout",
     "output_type": "stream",
     "text": [
      "Training SCENARIO_ONE + bluetooth\n",
      "Training SCENARIO_ONE + wifi\n",
      "Training SCENARIO_ONE + zigbee\n",
      "Training SCENARIO_TWO + bluetooth\n",
      "Training SCENARIO_TWO + wifi\n",
      "Training SCENARIO_TWO + zigbee\n",
      "Training SCENARIO_THREE + bluetooth\n",
      "Training SCENARIO_THREE + wifi\n",
      "Training SCENARIO_THREE + zigbee\n"
     ]
    }
   ],
   "source": [
    "# Model Training\n",
    "for scenario, signal, model, train_loader, _ in runs:\n",
    "    print(f\"Training {scenario.upper()} + {signal}\")\n",
    "    criterion = nn.MSELoss()\n",
    "    optimizer = optim.Adam(model.parameters(), lr=learning_rate)\n",
    "    train_model(model, train_loader, criterion, optimizer, num_epochs=num_epochs, verbose=False)"
   ]
  },
  {
   "cell_type": "code",
   "execution_count": 6,
   "id": "4722a9bc",
   "metadata": {},
   "outputs": [
    {
     "name": "stdout",
     "output_type": "stream",
     "text": [
      "✅ RMSE on test set: 1.4366\n",
      "✅ RMSE on test set: 1.4514\n",
      "✅ RMSE on test set: 1.3100\n",
      "✅ RMSE on test set: 1.4555\n",
      "✅ RMSE on test set: 1.5366\n",
      "✅ RMSE on test set: 0.8892\n",
      "✅ RMSE on test set: 1.4559\n",
      "✅ RMSE on test set: 1.1550\n",
      "✅ RMSE on test set: 1.5032\n"
     ]
    }
   ],
   "source": [
    "# Model Evaluation\n",
    "for scenario, signal, model, _, test_loader in runs:\n",
    "    rmse = evaluate_model(model, test_loader, verbose=True)\n",
    "    results.append((scenario, signal, rmse))"
   ]
  },
  {
   "cell_type": "code",
   "execution_count": 7,
   "id": "e63a1d9c",
   "metadata": {},
   "outputs": [
    {
     "data": {
      "text/html": [
       "<div>\n",
       "<style scoped>\n",
       "    .dataframe tbody tr th:only-of-type {\n",
       "        vertical-align: middle;\n",
       "    }\n",
       "\n",
       "    .dataframe tbody tr th {\n",
       "        vertical-align: top;\n",
       "    }\n",
       "\n",
       "    .dataframe thead th {\n",
       "        text-align: right;\n",
       "    }\n",
       "</style>\n",
       "<table border=\"1\" class=\"dataframe\">\n",
       "  <thead>\n",
       "    <tr style=\"text-align: right;\">\n",
       "      <th></th>\n",
       "      <th>Scenario</th>\n",
       "      <th>Signal</th>\n",
       "      <th>RMSE</th>\n",
       "    </tr>\n",
       "  </thead>\n",
       "  <tbody>\n",
       "    <tr>\n",
       "      <th>5</th>\n",
       "      <td>scenario_two</td>\n",
       "      <td>zigbee</td>\n",
       "      <td>0.889173</td>\n",
       "    </tr>\n",
       "    <tr>\n",
       "      <th>7</th>\n",
       "      <td>scenario_three</td>\n",
       "      <td>wifi</td>\n",
       "      <td>1.154992</td>\n",
       "    </tr>\n",
       "    <tr>\n",
       "      <th>2</th>\n",
       "      <td>scenario_one</td>\n",
       "      <td>zigbee</td>\n",
       "      <td>1.310031</td>\n",
       "    </tr>\n",
       "    <tr>\n",
       "      <th>0</th>\n",
       "      <td>scenario_one</td>\n",
       "      <td>bluetooth</td>\n",
       "      <td>1.436647</td>\n",
       "    </tr>\n",
       "    <tr>\n",
       "      <th>1</th>\n",
       "      <td>scenario_one</td>\n",
       "      <td>wifi</td>\n",
       "      <td>1.451393</td>\n",
       "    </tr>\n",
       "    <tr>\n",
       "      <th>3</th>\n",
       "      <td>scenario_two</td>\n",
       "      <td>bluetooth</td>\n",
       "      <td>1.455492</td>\n",
       "    </tr>\n",
       "    <tr>\n",
       "      <th>6</th>\n",
       "      <td>scenario_three</td>\n",
       "      <td>bluetooth</td>\n",
       "      <td>1.455864</td>\n",
       "    </tr>\n",
       "    <tr>\n",
       "      <th>8</th>\n",
       "      <td>scenario_three</td>\n",
       "      <td>zigbee</td>\n",
       "      <td>1.503159</td>\n",
       "    </tr>\n",
       "    <tr>\n",
       "      <th>4</th>\n",
       "      <td>scenario_two</td>\n",
       "      <td>wifi</td>\n",
       "      <td>1.536619</td>\n",
       "    </tr>\n",
       "  </tbody>\n",
       "</table>\n",
       "</div>"
      ],
      "text/plain": [
       "         Scenario     Signal      RMSE\n",
       "5    scenario_two     zigbee  0.889173\n",
       "7  scenario_three       wifi  1.154992\n",
       "2    scenario_one     zigbee  1.310031\n",
       "0    scenario_one  bluetooth  1.436647\n",
       "1    scenario_one       wifi  1.451393\n",
       "3    scenario_two  bluetooth  1.455492\n",
       "6  scenario_three  bluetooth  1.455864\n",
       "8  scenario_three     zigbee  1.503159\n",
       "4    scenario_two       wifi  1.536619"
      ]
     },
     "metadata": {},
     "output_type": "display_data"
    }
   ],
   "source": [
    "# Results\n",
    "import pandas as pd\n",
    "\n",
    "results_df = pd.DataFrame(results, columns=[\"Scenario\", \"Signal\", \"RMSE\"])\n",
    "results_df.sort_values(by=\"RMSE\", inplace=True)\n",
    "display(results_df)"
   ]
  }
 ],
 "metadata": {
  "kernelspec": {
   "display_name": "venv",
   "language": "python",
   "name": "python3"
  },
  "language_info": {
   "codemirror_mode": {
    "name": "ipython",
    "version": 3
   },
   "file_extension": ".py",
   "mimetype": "text/x-python",
   "name": "python",
   "nbconvert_exporter": "python",
   "pygments_lexer": "ipython3",
   "version": "3.10.17"
  }
 },
 "nbformat": 4,
 "nbformat_minor": 5
}
