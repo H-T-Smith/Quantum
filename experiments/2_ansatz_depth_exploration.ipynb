{
 "cells": [
  {
   "cell_type": "markdown",
   "id": "342037f9",
   "metadata": {},
   "source": [
    "# 🔁 Exploring the Impact of Ansatz Circuit Depth on HQNN Performance\n",
    "\n",
    "This experiment investigates how varying the depth of the ansatz circuit (by increasing the number of `reps`) affects the HQNN's localization accuracy. The feature map is fixed to `ZZFeatureMap`, and performance is compared across three signal types in `scenario_one`."
   ]
  },
  {
   "cell_type": "code",
   "execution_count": null,
   "id": "fcfb9019",
   "metadata": {},
   "outputs": [],
   "source": [
    "# Setup and Imports\n",
    "import sys\n",
    "sys.path.append(\"..\")\n",
    "\n",
    "import torch\n",
    "from torch import nn, optim\n",
    "from hqnn_core.qnn_builder import create_qnn\n",
    "from hqnn_core.classical_model import ClassicalNN\n",
    "from hqnn_core.hqnn_model import HybridModel\n",
    "from hqnn_core.train import train_model\n",
    "from hqnn_core.evaluate import evaluate_model\n",
    "from hqnn_core.data_utils import load_rssi_dataset\n",
    "\n",
    "import pandas as pd\n",
    "import matplotlib.pyplot as plt\n",
    "import seaborn as sns"
   ]
  },
  {
   "cell_type": "code",
   "execution_count": 4,
   "id": "3eb38e1b",
   "metadata": {},
   "outputs": [],
   "source": [
    "# Parameters\n",
    "feature_map_type = \"zz\"           # feature map is fixed\n",
    "ansatz_type = \"real\"              # depth tested\n",
    "depths_to_test = [1, 2, 3, 4, 5]  # reps values\n",
    "\n",
    "num_qubits = 3\n",
    "learning_rate = 0.01\n",
    "num_epochs = 15\n",
    "batch_size = 16\n",
    "sc_num = 1\n",
    "\n",
    "# Dataset targets\n",
    "scenarios = [\"scenario_one\"]\n",
    "signals = [\"bluetooth\", \"wifi\", \"zigbee\"]"
   ]
  },
  {
   "cell_type": "code",
   "execution_count": null,
   "id": "622bd1a5",
   "metadata": {},
   "outputs": [
    {
     "name": "stdout",
     "output_type": "stream",
     "text": [
      "▶ Training with reps=1 on SCENARIO_ONE + bluetooth\n"
     ]
    }
   ],
   "source": [
    "# Training\n",
    "results = []\n",
    "\n",
    "for reps in depths_to_test:\n",
    "    for scenario in scenarios:\n",
    "        for signal in signals:\n",
    "            print(f\"▶ Training with reps={reps} on {scenario.upper()} + {signal}\")\n",
    "\n",
    "            train_loader, test_loader = load_rssi_dataset(\n",
    "                scenario=scenario,\n",
    "                signal=signal,\n",
    "                sc_num=sc_num,\n",
    "                batch_size=batch_size,\n",
    "                base_path=\"../data\"\n",
    "            )\n",
    "\n",
    "            qnn = create_qnn(\n",
    "                num_qubits=num_qubits,\n",
    "                reps=reps,\n",
    "                feature_map_type=feature_map_type,\n",
    "                ansatz_type=ansatz_type\n",
    "            )\n",
    "\n",
    "            clnn = ClassicalNN(input_size=3, hidden_size=32, output_size=2)\n",
    "            model = HybridModel(qnn, clnn)\n",
    "\n",
    "            criterion = nn.MSELoss()\n",
    "            optimizer = optim.Adam(model.parameters(), lr=learning_rate)\n",
    "\n",
    "            train_model(model, train_loader, criterion, optimizer, num_epochs=num_epochs, verbose=False)\n",
    "            rmse = evaluate_model(model, test_loader)\n",
    "\n",
    "            results.append({\n",
    "                \"Scenario\": scenario,\n",
    "                \"Signal\": signal,\n",
    "                \"Reps\": reps,\n",
    "                \"RMSE\": rmse\n",
    "            })"
   ]
  },
  {
   "cell_type": "code",
   "execution_count": null,
   "id": "da8387f2",
   "metadata": {},
   "outputs": [
    {
     "ename": "NameError",
     "evalue": "name 'results' is not defined",
     "output_type": "error",
     "traceback": [
      "\u001b[0;31m---------------------------------------------------------------------------\u001b[0m",
      "\u001b[0;31mNameError\u001b[0m                                 Traceback (most recent call last)",
      "Cell \u001b[0;32mIn[3], line 1\u001b[0m\n\u001b[0;32m----> 1\u001b[0m df_results \u001b[38;5;241m=\u001b[39m pd\u001b[38;5;241m.\u001b[39mDataFrame(\u001b[43mresults\u001b[49m)\n\u001b[1;32m      2\u001b[0m df_results \u001b[38;5;241m=\u001b[39m df_results\u001b[38;5;241m.\u001b[39msort_values(by\u001b[38;5;241m=\u001b[39m\u001b[38;5;124m\"\u001b[39m\u001b[38;5;124mRMSE\u001b[39m\u001b[38;5;124m\"\u001b[39m, ascending\u001b[38;5;241m=\u001b[39m\u001b[38;5;28;01mTrue\u001b[39;00m)\u001b[38;5;241m.\u001b[39mreset_index(drop\u001b[38;5;241m=\u001b[39m\u001b[38;5;28;01mTrue\u001b[39;00m)\n\u001b[1;32m      3\u001b[0m df_results\n",
      "\u001b[0;31mNameError\u001b[0m: name 'results' is not defined"
     ]
    }
   ],
   "source": [
    "# Results\n",
    "df_results = pd.DataFrame(results)\n",
    "df_results = df_results.sort_values(by=\"RMSE\", ascending=True).reset_index(drop=True)\n",
    "df_results"
   ]
  },
  {
   "cell_type": "code",
   "execution_count": null,
   "id": "d880e9d0",
   "metadata": {},
   "outputs": [
    {
     "ename": "NameError",
     "evalue": "name 'df_results' is not defined",
     "output_type": "error",
     "traceback": [
      "\u001b[0;31m---------------------------------------------------------------------------\u001b[0m",
      "\u001b[0;31mNameError\u001b[0m                                 Traceback (most recent call last)",
      "Cell \u001b[0;32mIn[2], line 2\u001b[0m\n\u001b[1;32m      1\u001b[0m plt\u001b[38;5;241m.\u001b[39mfigure(figsize\u001b[38;5;241m=\u001b[39m(\u001b[38;5;241m10\u001b[39m, \u001b[38;5;241m6\u001b[39m))\n\u001b[0;32m----> 2\u001b[0m sns\u001b[38;5;241m.\u001b[39mlineplot(data\u001b[38;5;241m=\u001b[39m\u001b[43mdf_results\u001b[49m, x\u001b[38;5;241m=\u001b[39m\u001b[38;5;124m\"\u001b[39m\u001b[38;5;124mReps\u001b[39m\u001b[38;5;124m\"\u001b[39m, y\u001b[38;5;241m=\u001b[39m\u001b[38;5;124m\"\u001b[39m\u001b[38;5;124mRMSE\u001b[39m\u001b[38;5;124m\"\u001b[39m, hue\u001b[38;5;241m=\u001b[39m\u001b[38;5;124m\"\u001b[39m\u001b[38;5;124mSignal\u001b[39m\u001b[38;5;124m\"\u001b[39m, marker\u001b[38;5;241m=\u001b[39m\u001b[38;5;124m\"\u001b[39m\u001b[38;5;124mo\u001b[39m\u001b[38;5;124m\"\u001b[39m)\n\u001b[1;32m      3\u001b[0m plt\u001b[38;5;241m.\u001b[39mtitle(\u001b[38;5;124mf\u001b[39m\u001b[38;5;124m\"\u001b[39m\u001b[38;5;124mAnsatz Depth (Reps) vs RMSE — Feature Map: \u001b[39m\u001b[38;5;132;01m{\u001b[39;00mfeature_map_type\u001b[38;5;132;01m}\u001b[39;00m\u001b[38;5;124m\"\u001b[39m)\n\u001b[1;32m      4\u001b[0m plt\u001b[38;5;241m.\u001b[39mxlabel(\u001b[38;5;124m\"\u001b[39m\u001b[38;5;124mAnsatz Depth (Repetitions)\u001b[39m\u001b[38;5;124m\"\u001b[39m)\n",
      "\u001b[0;31mNameError\u001b[0m: name 'df_results' is not defined"
     ]
    },
    {
     "data": {
      "text/plain": [
       "<Figure size 1000x600 with 0 Axes>"
      ]
     },
     "metadata": {},
     "output_type": "display_data"
    }
   ],
   "source": [
    "# Visualization\n",
    "plt.figure(figsize=(10, 6))\n",
    "sns.lineplot(data=df_results, x=\"Reps\", y=\"RMSE\", hue=\"Signal\", marker=\"o\")\n",
    "plt.title(f\"Ansatz Depth (Reps) vs RMSE — Feature Map: {feature_map_type}\")\n",
    "plt.xlabel(\"Ansatz Depth (Repetitions)\")\n",
    "plt.ylabel(\"RMSE\")\n",
    "plt.grid(True)\n",
    "plt.tight_layout()\n",
    "plt.show()"
   ]
  },
  {
   "cell_type": "code",
   "execution_count": null,
   "id": "6301f3de",
   "metadata": {},
   "outputs": [],
   "source": []
  }
 ],
 "metadata": {
  "kernelspec": {
   "display_name": "venv",
   "language": "python",
   "name": "python3"
  },
  "language_info": {
   "codemirror_mode": {
    "name": "ipython",
    "version": 3
   },
   "file_extension": ".py",
   "mimetype": "text/x-python",
   "name": "python",
   "nbconvert_exporter": "python",
   "pygments_lexer": "ipython3",
   "version": "3.10.17"
  }
 },
 "nbformat": 4,
 "nbformat_minor": 5
}
